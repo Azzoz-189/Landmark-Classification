{
  "cells": [
    {
      "cell_type": "markdown",
      "metadata": {
        "id": "view-in-github",
        "colab_type": "text"
      },
      "source": [
        "<a href=\"https://colab.research.google.com/github/Azzoz-189/Landmark-Classification/blob/main/transfer_learning.ipynb\" target=\"_parent\"><img src=\"https://colab.research.google.com/assets/colab-badge.svg\" alt=\"Open In Colab\"/></a>"
      ]
    },
    {
      "cell_type": "markdown",
      "metadata": {
        "id": "sGXgyU4PragO"
      },
      "source": [
        "# Convolutional Neural Networks\n",
        "\n",
        "## Project: Write an Algorithm for Landmark Classification\n",
        "\n",
        "\n",
        "### Transfer learning\n",
        "\n",
        "In the previous notebook we have trained our own CNN and we got a certain performance. Let's see how hard it is to match that performance with transfer learning.\n",
        "\n",
        "---\n",
        "## <img src=\"static_images/icons/noun-advance-2109145.png\" alt=\">\" style=\"width:50px\"/> Step 0: Setting up\n",
        "\n",
        "The following cells make sure that your environment is setup correctly and check that your GPU is available and ready to go. You have to execute them every time you restart your notebook."
      ]
    },
    {
      "cell_type": "code",
      "source": [
        "from google.colab import drive\n",
        "drive.mount('/content/drive')"
      ],
      "metadata": {
        "colab": {
          "base_uri": "https://localhost:8080/"
        },
        "id": "PfYcPT8S06te",
        "outputId": "7154a64f-41a2-49a7-cfa6-dfed5eb27e49"
      },
      "execution_count": 1,
      "outputs": [
        {
          "output_type": "stream",
          "name": "stdout",
          "text": [
            "Mounted at /content/drive\n"
          ]
        }
      ]
    },
    {
      "cell_type": "code",
      "execution_count": 2,
      "metadata": {
        "colab": {
          "base_uri": "https://localhost:8080/",
          "height": 1000
        },
        "id": "vJg3J4OoragP",
        "outputId": "68228143-3924-4016-9821-6b95ba1a4fc5"
      },
      "outputs": [
        {
          "output_type": "stream",
          "name": "stdout",
          "text": [
            "Collecting matplotlib==3.4.3 (from -r /content/drive/MyDrive/AWS_Advanced/Project_3_docs/requirements.txt (line 2))\n",
            "  Downloading matplotlib-3.4.3.tar.gz (37.9 MB)\n",
            "     ━━━━━━━━━━━━━━━━━━━━━━━━━━━━━━━━━━━━━━━━ 37.9/37.9 MB 26.5 MB/s eta 0:00:00\n",
            "  Preparing metadata (setup.py): started\n",
            "  Preparing metadata (setup.py): finished with status 'done'\n",
            "Collecting numpy==1.21.2 (from -r /content/drive/MyDrive/AWS_Advanced/Project_3_docs/requirements.txt (line 3))\n",
            "  Downloading numpy-1.21.2-cp310-cp310-manylinux_2_17_x86_64.manylinux2014_x86_64.whl (15.9 MB)\n",
            "     ━━━━━━━━━━━━━━━━━━━━━━━━━━━━━━━━━━━━━━━━ 15.9/15.9 MB 50.5 MB/s eta 0:00:00\n",
            "Collecting pillow==7.0.0 (from -r /content/drive/MyDrive/AWS_Advanced/Project_3_docs/requirements.txt (line 4))\n",
            "  Downloading Pillow-7.0.0.tar.gz (38.2 MB)\n",
            "     ━━━━━━━━━━━━━━━━━━━━━━━━━━━━━━━━━━━━━━━━ 38.2/38.2 MB 5.8 MB/s eta 0:00:00\n",
            "  Preparing metadata (setup.py): started\n",
            "  Preparing metadata (setup.py): finished with status 'done'\n",
            "Collecting bokeh==2.1.1 (from -r /content/drive/MyDrive/AWS_Advanced/Project_3_docs/requirements.txt (line 5))\n",
            "  Downloading bokeh-2.1.1.tar.gz (19.3 MB)\n",
            "     ━━━━━━━━━━━━━━━━━━━━━━━━━━━━━━━━━━━━━━━━ 19.3/19.3 MB 53.4 MB/s eta 0:00:00\n",
            "  Preparing metadata (setup.py): started\n",
            "  Preparing metadata (setup.py): finished with status 'done'\n",
            "Collecting torch==1.11.0 (from -r /content/drive/MyDrive/AWS_Advanced/Project_3_docs/requirements.txt (line 6))\n",
            "  Downloading torch-1.11.0-cp310-cp310-manylinux1_x86_64.whl (750.6 MB)\n",
            "     ━━━━━━━━━━━━━━━━━━━━━━━━━━━━━━━━━━━━━━━━ 750.6/750.6 MB 1.4 MB/s eta 0:00:00\n",
            "Collecting torchvision==0.12.0 (from -r /content/drive/MyDrive/AWS_Advanced/Project_3_docs/requirements.txt (line 7))\n",
            "  Downloading torchvision-0.12.0-cp310-cp310-manylinux1_x86_64.whl (21.0 MB)\n",
            "     ━━━━━━━━━━━━━━━━━━━━━━━━━━━━━━━━━━━━━━━━ 21.0/21.0 MB 58.8 MB/s eta 0:00:00\n",
            "Collecting tqdm==4.63.0 (from -r /content/drive/MyDrive/AWS_Advanced/Project_3_docs/requirements.txt (line 8))\n",
            "  Downloading tqdm-4.63.0-py2.py3-none-any.whl (76 kB)\n",
            "     ━━━━━━━━━━━━━━━━━━━━━━━━━━━━━━━━━━━━━━━━ 76.6/76.6 kB 8.3 MB/s eta 0:00:00\n",
            "Collecting ipywidgets==7.6.5 (from -r /content/drive/MyDrive/AWS_Advanced/Project_3_docs/requirements.txt (line 9))\n",
            "  Downloading ipywidgets-7.6.5-py2.py3-none-any.whl (121 kB)\n",
            "     ━━━━━━━━━━━━━━━━━━━━━━━━━━━━━━━━━━━━━━━━ 121.8/121.8 kB 10.3 MB/s eta 0:00:00\n",
            "Collecting livelossplot==0.5.4 (from -r /content/drive/MyDrive/AWS_Advanced/Project_3_docs/requirements.txt (line 10))\n",
            "  Downloading livelossplot-0.5.4-py3-none-any.whl (22 kB)\n",
            "Collecting pytest==7.1.1 (from -r /content/drive/MyDrive/AWS_Advanced/Project_3_docs/requirements.txt (line 11))\n",
            "  Downloading pytest-7.1.1-py3-none-any.whl (297 kB)\n",
            "     ━━━━━━━━━━━━━━━━━━━━━━━━━━━━━━━━━━━━━━━━ 297.0/297.0 kB 29.6 MB/s eta 0:00:00\n",
            "Collecting pandas==1.3.5 (from -r /content/drive/MyDrive/AWS_Advanced/Project_3_docs/requirements.txt (line 12))\n",
            "  Downloading pandas-1.3.5-cp310-cp310-manylinux_2_17_x86_64.manylinux2014_x86_64.whl (11.5 MB)\n",
            "     ━━━━━━━━━━━━━━━━━━━━━━━━━━━━━━━━━━━━━━━━ 11.5/11.5 MB 80.7 MB/s eta 0:00:00\n",
            "Collecting seaborn==0.11.2 (from -r /content/drive/MyDrive/AWS_Advanced/Project_3_docs/requirements.txt (line 13))\n",
            "  Downloading seaborn-0.11.2-py3-none-any.whl (292 kB)\n",
            "     ━━━━━━━━━━━━━━━━━━━━━━━━━━━━━━━━━━━━━━━━ 292.8/292.8 kB 24.8 MB/s eta 0:00:00\n",
            "Collecting widgetsnbextension~=3.5.0 (from ipywidgets==7.6.5->-r /content/drive/MyDrive/AWS_Advanced/Project_3_docs/requirements.txt (line 9))\n",
            "  Downloading widgetsnbextension-3.5.2-py2.py3-none-any.whl (1.6 MB)\n",
            "     ━━━━━━━━━━━━━━━━━━━━━━━━━━━━━━━━━━━━━━━━ 1.6/1.6 MB 41.1 MB/s eta 0:00:00\n",
            "Collecting py>=1.8.2 (from pytest==7.1.1->-r /content/drive/MyDrive/AWS_Advanced/Project_3_docs/requirements.txt (line 11))\n",
            "  Downloading py-1.11.0-py2.py3-none-any.whl (98 kB)\n",
            "     ━━━━━━━━━━━━━━━━━━━━━━━━━━━━━━━━━━━━━━━━ 98.7/98.7 kB 12.2 MB/s eta 0:00:00\n",
            "Collecting jedi>=0.16 (from ipython>=4.0.0->ipywidgets==7.6.5->-r /content/drive/MyDrive/AWS_Advanced/Project_3_docs/requirements.txt (line 9))\n",
            "  Downloading jedi-0.19.1-py2.py3-none-any.whl (1.6 MB)\n",
            "     ━━━━━━━━━━━━━━━━━━━━━━━━━━━━━━━━━━━━━━━━ 1.6/1.6 MB 55.1 MB/s eta 0:00:00\n",
            "INFO: pip is looking at multiple versions of scipy to determine which version is compatible with other requirements. This could take a while.\n",
            "Collecting scipy>=1.0 (from seaborn==0.11.2->-r /content/drive/MyDrive/AWS_Advanced/Project_3_docs/requirements.txt (line 13))\n",
            "  Downloading scipy-1.14.0-cp310-cp310-manylinux_2_17_x86_64.manylinux2014_x86_64.whl (41.1 MB)\n",
            "     ━━━━━━━━━━━━━━━━━━━━━━━━━━━━━━━━━━━━━━━━ 41.1/41.1 MB 11.0 MB/s eta 0:00:00\n",
            "  Downloading scipy-1.13.1-cp310-cp310-manylinux_2_17_x86_64.manylinux2014_x86_64.whl (38.6 MB)\n",
            "     ━━━━━━━━━━━━━━━━━━━━━━━━━━━━━━━━━━━━━━━━ 38.6/38.6 MB 26.9 MB/s eta 0:00:00\n",
            "  Downloading scipy-1.13.0-cp310-cp310-manylinux_2_17_x86_64.manylinux2014_x86_64.whl (38.6 MB)\n",
            "     ━━━━━━━━━━━━━━━━━━━━━━━━━━━━━━━━━━━━━━━━ 38.6/38.6 MB 14.9 MB/s eta 0:00:00\n",
            "  Downloading scipy-1.12.0-cp310-cp310-manylinux_2_17_x86_64.manylinux2014_x86_64.whl (38.4 MB)\n",
            "     ━━━━━━━━━━━━━━━━━━━━━━━━━━━━━━━━━━━━━━━━ 38.4/38.4 MB 13.8 MB/s eta 0:00:00\n",
            "  Downloading scipy-1.11.3-cp310-cp310-manylinux_2_17_x86_64.manylinux2014_x86_64.whl (36.4 MB)\n",
            "     ━━━━━━━━━━━━━━━━━━━━━━━━━━━━━━━━━━━━━━━━ 36.4/36.4 MB 38.1 MB/s eta 0:00:00\n",
            "  Downloading scipy-1.11.2-cp310-cp310-manylinux_2_17_x86_64.manylinux2014_x86_64.whl (36.3 MB)\n",
            "     ━━━━━━━━━━━━━━━━━━━━━━━━━━━━━━━━━━━━━━━━ 36.3/36.3 MB 13.2 MB/s eta 0:00:00\n",
            "  Downloading scipy-1.11.1-cp310-cp310-manylinux_2_17_x86_64.manylinux2014_x86_64.whl (36.3 MB)\n",
            "     ━━━━━━━━━━━━━━━━━━━━━━━━━━━━━━━━━━━━━━━━ 36.3/36.3 MB 37.9 MB/s eta 0:00:00\n",
            "INFO: pip is looking at multiple versions of scipy to determine which version is compatible with other requirements. This could take a while.\n",
            "  Downloading scipy-1.10.1-cp310-cp310-manylinux_2_17_x86_64.manylinux2014_x86_64.whl (34.4 MB)\n",
            "     ━━━━━━━━━━━━━━━━━━━━━━━━━━━━━━━━━━━━━━━━ 34.4/34.4 MB 16.1 MB/s eta 0:00:00\n",
            "Building wheels for collected packages: matplotlib, pillow, bokeh\n",
            "  Building wheel for matplotlib (setup.py): started\n",
            "  Building wheel for matplotlib (setup.py): finished with status 'done'\n",
            "  Created wheel for matplotlib: filename=matplotlib-3.4.3-cp310-cp310-linux_x86_64.whl size=10439758 sha256=05c0cb496269b0fdc2bc668a710fed5bf272e327bb6416445b93b6b40d73521f\n",
            "  Stored in directory: /root/.cache/pip/wheels/71/af/e4/d399b616d3e7ae88374c2ebab2d5d3ecf776a3590d4f5f768f\n",
            "  Building wheel for pillow (setup.py): started\n",
            "  Building wheel for pillow (setup.py): finished with status 'done'\n",
            "  Created wheel for pillow: filename=Pillow-7.0.0-cp310-cp310-linux_x86_64.whl size=1126242 sha256=61c11aee0703d8672db9d68fddeb6c5322e2db902c7fff53a7af965755522437\n",
            "  Stored in directory: /root/.cache/pip/wheels/1c/10/cb/7305a55650f9a7458ab3ffbedf17d848e35e3fb86cffc6cee9\n",
            "  Building wheel for bokeh (setup.py): started\n",
            "  Building wheel for bokeh (setup.py): finished with status 'done'\n",
            "  Created wheel for bokeh: filename=bokeh-2.1.1-py3-none-any.whl size=9257172 sha256=dd5fb38d646390855d772723ea43f22601cef37090d2c597b48d3f3b4f1b0c32\n",
            "  Stored in directory: /root/.cache/pip/wheels/aa/d6/d6/eea1cae7a02c7fa3d4f770ecf4298a4edd8a3aa8bb829fcb38\n",
            "Successfully built matplotlib pillow bokeh\n",
            "Installing collected packages: tqdm, torch, py, pillow, numpy, jedi, torchvision, scipy, pytest, pandas, matplotlib, bokeh, seaborn, livelossplot, widgetsnbextension, ipywidgets\n",
            "  Attempting uninstall: tqdm\n",
            "    Found existing installation: tqdm 4.66.4\n",
            "    Uninstalling tqdm-4.66.4:\n",
            "      Successfully uninstalled tqdm-4.66.4\n",
            "  Attempting uninstall: torch\n",
            "    Found existing installation: torch 2.3.0+cu121\n",
            "    Uninstalling torch-2.3.0+cu121:\n",
            "      Successfully uninstalled torch-2.3.0+cu121\n",
            "  Attempting uninstall: pillow\n",
            "    Found existing installation: Pillow 9.4.0\n",
            "    Uninstalling Pillow-9.4.0:\n",
            "      Successfully uninstalled Pillow-9.4.0\n",
            "  Attempting uninstall: numpy\n",
            "    Found existing installation: numpy 1.25.2\n",
            "    Uninstalling numpy-1.25.2:\n",
            "      Successfully uninstalled numpy-1.25.2\n",
            "  Attempting uninstall: torchvision\n",
            "    Found existing installation: torchvision 0.18.0+cu121\n",
            "    Uninstalling torchvision-0.18.0+cu121:\n",
            "      Successfully uninstalled torchvision-0.18.0+cu121\n",
            "  Attempting uninstall: scipy\n",
            "    Found existing installation: scipy 1.11.4\n",
            "    Uninstalling scipy-1.11.4:\n",
            "      Successfully uninstalled scipy-1.11.4\n",
            "  Attempting uninstall: pytest\n",
            "    Found existing installation: pytest 7.4.4\n",
            "    Uninstalling pytest-7.4.4:\n",
            "      Successfully uninstalled pytest-7.4.4\n",
            "  Attempting uninstall: pandas\n",
            "    Found existing installation: pandas 2.0.3\n",
            "    Uninstalling pandas-2.0.3:\n",
            "      Successfully uninstalled pandas-2.0.3\n",
            "  Attempting uninstall: matplotlib\n",
            "    Found existing installation: matplotlib 3.7.1\n",
            "    Uninstalling matplotlib-3.7.1:\n",
            "      Successfully uninstalled matplotlib-3.7.1\n",
            "  Attempting uninstall: bokeh\n",
            "    Found existing installation: bokeh 3.3.4\n",
            "    Uninstalling bokeh-3.3.4:\n",
            "      Successfully uninstalled bokeh-3.3.4\n",
            "  Attempting uninstall: seaborn\n",
            "    Found existing installation: seaborn 0.13.1\n",
            "    Uninstalling seaborn-0.13.1:\n",
            "      Successfully uninstalled seaborn-0.13.1\n",
            "  Attempting uninstall: widgetsnbextension\n",
            "    Found existing installation: widgetsnbextension 3.6.6\n",
            "    Uninstalling widgetsnbextension-3.6.6:\n",
            "      Successfully uninstalled widgetsnbextension-3.6.6\n",
            "  Attempting uninstall: ipywidgets\n",
            "    Found existing installation: ipywidgets 7.7.1\n",
            "    Uninstalling ipywidgets-7.7.1:\n",
            "      Successfully uninstalled ipywidgets-7.7.1\n",
            "\u001b[31mERROR: pip's dependency resolver does not currently take into account all the packages that are installed. This behaviour is the source of the following dependency conflicts.\n",
            "bigframes 1.11.0 requires ipywidgets>=7.7.1, but you have ipywidgets 7.6.5 which is incompatible.\n",
            "bigframes 1.11.0 requires matplotlib>=3.7.1, but you have matplotlib 3.4.3 which is incompatible.\n",
            "bigframes 1.11.0 requires pandas>=1.5.0, but you have pandas 1.3.5 which is incompatible.\n",
            "chex 0.1.86 requires numpy>=1.24.1, but you have numpy 1.21.2 which is incompatible.\n",
            "cudf-cu12 24.4.1 requires numpy<2.0a0,>=1.23, but you have numpy 1.21.2 which is incompatible.\n",
            "cudf-cu12 24.4.1 requires pandas<2.2.2dev0,>=2.0, but you have pandas 1.3.5 which is incompatible.\n",
            "dopamine-rl 4.0.9 requires tqdm>=4.64.1, but you have tqdm 4.63.0 which is incompatible.\n",
            "fastai 2.7.15 requires pillow>=9.0.0, but you have pillow 7.0.0 which is incompatible.\n",
            "flax 0.8.4 requires numpy>=1.22, but you have numpy 1.21.2 which is incompatible.\n",
            "google-colab 1.0.0 requires pandas==2.0.3, but you have pandas 1.3.5 which is incompatible.\n",
            "imageio 2.31.6 requires pillow<10.1.0,>=8.3.2, but you have pillow 7.0.0 which is incompatible.\n",
            "jax 0.4.26 requires numpy>=1.22, but you have numpy 1.21.2 which is incompatible.\n",
            "jaxlib 0.4.26+cuda12.cudnn89 requires numpy>=1.22, but you have numpy 1.21.2 which is incompatible.\n",
            "mizani 0.9.3 requires matplotlib>=3.5.0, but you have matplotlib 3.4.3 which is incompatible.\n",
            "numba 0.58.1 requires numpy<1.27,>=1.22, but you have numpy 1.21.2 which is incompatible.\n",
            "numexpr 2.10.1 requires numpy>=1.23.0, but you have numpy 1.21.2 which is incompatible.\n",
            "pandas-stubs 2.0.3.230814 requires numpy>=1.25.0; python_version >= \"3.9\", but you have numpy 1.21.2 which is incompatible.\n",
            "panel 1.3.8 requires bokeh<3.4.0,>=3.2.0, but you have bokeh 2.1.1 which is incompatible.\n",
            "plotnine 0.12.4 requires matplotlib>=3.6.0, but you have matplotlib 3.4.3 which is incompatible.\n",
            "plotnine 0.12.4 requires numpy>=1.23.0, but you have numpy 1.21.2 which is incompatible.\n",
            "plotnine 0.12.4 requires pandas>=1.5.0, but you have pandas 1.3.5 which is incompatible.\n",
            "pywavelets 1.6.0 requires numpy<3,>=1.22.4, but you have numpy 1.21.2 which is incompatible.\n",
            "rmm-cu12 24.4.0 requires numpy<2.0a0,>=1.23, but you have numpy 1.21.2 which is incompatible.\n",
            "statsmodels 0.14.2 requires numpy>=1.22.3, but you have numpy 1.21.2 which is incompatible.\n",
            "statsmodels 0.14.2 requires pandas!=2.1.0,>=1.4, but you have pandas 1.3.5 which is incompatible.\n",
            "tensorflow 2.15.0 requires numpy<2.0.0,>=1.23.5, but you have numpy 1.21.2 which is incompatible.\n",
            "torchaudio 2.3.0+cu121 requires torch==2.3.0, but you have torch 1.11.0 which is incompatible.\n",
            "torchtext 0.18.0 requires torch>=2.3.0, but you have torch 1.11.0 which is incompatible.\n",
            "xarray 2023.7.0 requires pandas>=1.4, but you have pandas 1.3.5 which is incompatible.\n",
            "xarray-einstats 0.7.0 requires numpy>=1.22, but you have numpy 1.21.2 which is incompatible.\u001b[0m\u001b[31m\n",
            "\u001b[0mSuccessfully installed bokeh-2.1.1 ipywidgets-7.6.5 jedi-0.19.1 livelossplot-0.5.4 matplotlib-3.4.3 numpy-1.21.2 pandas-1.3.5 pillow-7.0.0 py-1.11.0 pytest-7.1.1 scipy-1.10.1 seaborn-0.11.2 torch-1.11.0 torchvision-0.12.0 tqdm-4.63.0 widgetsnbextension-3.5.2\n"
          ]
        },
        {
          "output_type": "display_data",
          "data": {
            "application/vnd.colab-display-data+json": {
              "pip_warning": {
                "packages": [
                  "PIL",
                  "matplotlib",
                  "mpl_toolkits",
                  "numpy"
                ]
              },
              "id": "132add92486d476393a1aac6e5c2eed6"
            }
          },
          "metadata": {}
        }
      ],
      "source": [
        "# Install requirements\n",
        "!pip install -r /content/drive/MyDrive/AWS_Advanced/Project_3_docs/requirements.txt | grep -v \"already satisfied\""
      ]
    },
    {
      "cell_type": "code",
      "execution_count": 1,
      "metadata": {
        "colab": {
          "base_uri": "https://localhost:8080/"
        },
        "id": "hiE7EsmEragQ",
        "outputId": "76567eba-4c50-4319-9996-3edafaaf2b44"
      },
      "outputs": [
        {
          "output_type": "stream",
          "name": "stdout",
          "text": [
            "GPU *NOT* available. Will use CPU (slow)\n",
            "Downloading and unzipping https://udacity-dlnfd.s3-us-west-1.amazonaws.com/datasets/landmark_images.zip. This will take a while...\n",
            "done\n"
          ]
        },
        {
          "output_type": "stream",
          "name": "stderr",
          "text": [
            "Computing mean: 100%|███████████████████████| 6246/6246 [01:22<00:00, 75.53it/s]\n",
            "Computing std: 100%|████████████████████████| 6246/6246 [01:36<00:00, 64.90it/s]\n"
          ]
        }
      ],
      "source": [
        "from helpers import setup_env\n",
        "\n",
        "# If running locally, this will download dataset (make sure you have at\n",
        "# least 2 Gb of space on your hard drive)\n",
        "setup_env()"
      ]
    },
    {
      "cell_type": "markdown",
      "metadata": {
        "id": "NiiwRd0pragR"
      },
      "source": [
        "---\n",
        "## <img src=\"static_images/icons/noun-advance-2109145.png\" alt=\">\" style=\"width:50px\"/> Step 1: Create transfer learning architecture\n",
        "\n",
        "Open the file `src/transfer.py` and complete the `get_model_transfer_learning` function. When you are done, execute this test:"
      ]
    },
    {
      "cell_type": "code",
      "execution_count": 3,
      "metadata": {
        "colab": {
          "base_uri": "https://localhost:8080/"
        },
        "id": "BYX4e28NragR",
        "outputId": "0c194968-9b95-40b8-e387-6209ad4a4112"
      },
      "outputs": [
        {
          "output_type": "stream",
          "name": "stdout",
          "text": [
            "\u001b[1m======================================= test session starts ========================================\u001b[0m\n",
            "platform linux -- Python 3.10.12, pytest-7.1.1, pluggy-1.5.0 -- /usr/bin/python3\n",
            "cachedir: .pytest_cache\n",
            "rootdir: /content\n",
            "plugins: anyio-3.7.1\n",
            "collected 1 item                                                                                   \u001b[0m\n",
            "\n",
            "transfer.py::test_get_model_transfer_learning \u001b[32mPASSED\u001b[0m\u001b[32m                                         [100%]\u001b[0m\n",
            "\n",
            "\u001b[32m======================================== \u001b[32m\u001b[1m1 passed\u001b[0m\u001b[32m in 3.57s\u001b[0m\u001b[32m =========================================\u001b[0m\n"
          ]
        }
      ],
      "source": [
        "!pytest -vv transfer.py"
      ]
    },
    {
      "cell_type": "markdown",
      "metadata": {
        "id": "hi0_arbXragR"
      },
      "source": [
        "---\n",
        "## <img src=\"static_images/icons/noun-advance-2109145.png\" alt=\">\" style=\"width:50px\"/> Step 2: Train, validation and test\n",
        "\n",
        "Let's train our transfer learning model! Let's start defining the hyperparameters:"
      ]
    },
    {
      "cell_type": "code",
      "execution_count": 4,
      "metadata": {
        "id": "r_AtV3uYragR"
      },
      "outputs": [],
      "source": [
        "batch_size = 64  # size of the minibatch for stochastic gradient descent (or Adam)\n",
        "valid_size = 0.2  # fraction of the training data to reserve for validation\n",
        "num_epochs = 50  # number of epochs for training\n",
        "num_classes = 50  # number of classes. Do not change this\n",
        "learning_rate = 0.001  # Learning rate for SGD (or Adam)\n",
        "opt = 'adam'      # optimizer. 'sgd' or 'adam'\n",
        "weight_decay = 0.0 # regularization. Increase this to combat overfitting"
      ]
    },
    {
      "cell_type": "code",
      "execution_count": null,
      "metadata": {
        "colab": {
          "base_uri": "https://localhost:8080/",
          "height": 824
        },
        "id": "z4acbmHAragS",
        "outputId": "370bd4a4-cb94-473e-88c2-e73d973f680f"
      },
      "outputs": [
        {
          "output_type": "display_data",
          "data": {
            "text/plain": [
              "<Figure size 1200x800 with 2 Axes>"
            ],
            "image/png": "[encoded data removed]"
          },
          "metadata": {}
        },
        {
          "output_type": "stream",
          "name": "stderr",
          "text": [
            "Training:  33%|███████████                      | 21/63 [02:49<05:33,  7.95s/it]"
          ]
        }
      ],
      "source": [
        "from data import get_data_loaders\n",
        "from optimization import get_optimizer, get_loss\n",
        "from train import optimize\n",
        "from transfer import get_model_transfer_learning\n",
        "\n",
        "# Get a model using get_model_transfer_learning. Use one of the names reported here:\n",
        "# https://pytorch.org/vision/0.10/models.html\n",
        "# For example, if you want to load ResNet 18, use \"resnet18\"\n",
        "# NOTE: use the hyperparameters defined in the previous cell, do NOT copy/paste the\n",
        "# values\n",
        "model_transfer = get_model_transfer_learning() # YOUR CODE HERE\n",
        "\n",
        "# train the model\n",
        "data_loaders = get_data_loaders(batch_size=batch_size)\n",
        "optimizer = get_optimizer(\n",
        "    model_transfer,\n",
        "    learning_rate=learning_rate,\n",
        "    optimizer=opt,\n",
        "    weight_decay=weight_decay,\n",
        ")\n",
        "loss = get_loss()\n",
        "\n",
        "optimize(\n",
        "    data_loaders,\n",
        "    model_transfer,\n",
        "    optimizer,\n",
        "    loss,\n",
        "    n_epochs=num_epochs,\n",
        "    save_path=\"/content/drive/MyDrive/AWS_Advanced/Project_3_docs/checkpoints/model_transfer.pt\",\n",
        "    interactive_tracking=True\n",
        ")"
      ]
    },
    {
      "cell_type": "markdown",
      "metadata": {
        "id": "-IxuYfnCragS"
      },
      "source": [
        "<img src=\"static_images/icons/noun-question-mark-869751.png\" alt=\"?\" style=\"width:25px\"/> __Question:__ Outline the steps you took to get to your final CNN architecture and your reasoning at each step.  Describe why you think the architecture is suitable for the current problem."
      ]
    },
    {
      "cell_type": "markdown",
      "metadata": {
        "id": "a2M0WYHeragU"
      },
      "source": [
        "<img src=\"static_images/icons/noun-answer-3361020.png\" alt=\">\" style=\"width:25px\"/>  __Answer:__\n",
        "\n"
      ]
    },
    {
      "cell_type": "markdown",
      "metadata": {
        "id": "1O2hABH8ragU"
      },
      "source": [
        "Now play with the hyperparameters and see which performance you can get on the validation set. You should get at least 60% for a passing grade, but a good model choice and a good training strategy could get you up to 80% or so. Let's see how close you can get!"
      ]
    },
    {
      "cell_type": "markdown",
      "metadata": {
        "id": "0jkkd0WaragU"
      },
      "source": [
        "---\n",
        "## <img src=\"static_images/icons/noun-advance-2109145.png\" alt=\">\" style=\"width:50px\"/> Step 3: Test the Model\n",
        "\n",
        "Try out your model on the test dataset of landmark images. Use the code cell below to calculate and print the test loss and accuracy.  Ensure that your test accuracy is greater than 60% and matches more or less what you got on the validation set (otherwise you're overfitting!)"
      ]
    },
    {
      "cell_type": "code",
      "execution_count": null,
      "metadata": {
        "id": "SPAHh_Y8ragU"
      },
      "outputs": [],
      "source": [
        "import torch\n",
        "from src.train import one_epoch_test\n",
        "from src.transfer import get_model_transfer_learning\n",
        "\n",
        "model_transfer = get_model_transfer_learning(\"resnet18\", n_classes=num_classes)\n",
        "# Load saved weights\n",
        "model_transfer.load_state_dict(torch.load('checkpoints/model_transfer.pt'))\n",
        "\n",
        "one_epoch_test(data_loaders['test'], model_transfer, loss)"
      ]
    },
    {
      "cell_type": "markdown",
      "metadata": {
        "id": "ONugDj0YragV"
      },
      "source": [
        "---\n",
        "## <img src=\"static_images/icons/noun-advance-2109145.png\" alt=\">\" style=\"width:50px\"/> Step 4: Export using torchscript\n",
        "\n",
        "Now, just like we did with our original model, we export the best fit model using torchscript so that it can be used in our application:"
      ]
    },
    {
      "cell_type": "code",
      "execution_count": null,
      "metadata": {
        "id": "CIlu5kpbragV"
      },
      "outputs": [],
      "source": [
        "from src.predictor import Predictor\n",
        "from src.helpers import compute_mean_and_std\n",
        "\n",
        "# First let's get the class names from our data loaders\n",
        "class_names = data_loaders[\"train\"].dataset.classes\n",
        "\n",
        "# Then let's move the model_transfer to the CPU\n",
        "# (we don't need GPU for inference)\n",
        "model_transfer = model_transfer.cpu()\n",
        "# Let's make sure we use the right weights by loading the\n",
        "# best weights we have found during training\n",
        "# NOTE: remember to use map_location='cpu' so the weights\n",
        "# are loaded on the CPU (and not the GPU)\n",
        "model_transfer.load_state_dict(\n",
        "    torch.load(\"checkpoints/model_transfer.pt\", map_location=\"cpu\")\n",
        ")\n",
        "\n",
        "# Let's wrap our model using the predictor class\n",
        "mean, std = compute_mean_and_std()\n",
        "predictor = Predictor(model_transfer, class_names, mean, std).cpu()\n",
        "\n",
        "# Export using torch.jit.script\n",
        "scripted_predictor = torch.jit.script(predictor)\n",
        "scripted_predictor.save(\"checkpoints/transfer_exported.pt\")"
      ]
    },
    {
      "cell_type": "code",
      "execution_count": null,
      "metadata": {
        "id": "iYObXwhUragV"
      },
      "outputs": [],
      "source": [
        "import torch\n",
        "from src.predictor import predictor_test\n",
        "from src.helpers import plot_confusion_matrix\n",
        "\n",
        "model_reloaded = torch.jit.load(\"checkpoints/transfer_exported.pt\")\n",
        "\n",
        "pred, truth = predictor_test(data_loaders['test'], model_reloaded)\n",
        "\n",
        "plot_confusion_matrix(pred, truth)"
      ]
    }
  ],
  "metadata": {
    "kernelspec": {
      "display_name": "Python 3",
      "name": "python3"
    },
    "language_info": {
      "codemirror_mode": {
        "name": "ipython",
        "version": 3
      },
      "file_extension": ".py",
      "mimetype": "text/x-python",
      "name": "python",
      "nbconvert_exporter": "python",
      "pygments_lexer": "ipython3",
      "version": "3.7.6"
    },
    "colab": {
      "provenance": [],
      "gpuType": "T4",
      "include_colab_link": true
    },
    "accelerator": "GPU"
  },
  "nbformat": 4,
  "nbformat_minor": 0
}